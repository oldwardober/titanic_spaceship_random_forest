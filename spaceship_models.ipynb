{
 "cells": [
  {
   "cell_type": "markdown",
   "id": "9085d94a",
   "metadata": {},
   "source": [
    "# Titanic spaceship - ML models"
   ]
  },
  {
   "cell_type": "code",
   "execution_count": 1,
   "id": "ab90e060",
   "metadata": {},
   "outputs": [],
   "source": [
    "import pandas as pd\n",
    "import numpy as np\n",
    "import matplotlib.pyplot as plt\n",
    "import seaborn as sn\n",
    "import statsmodels.api as sm"
   ]
  },
  {
   "cell_type": "code",
   "execution_count": 2,
   "id": "c3860d79",
   "metadata": {},
   "outputs": [
    {
     "data": {
      "text/html": [
       "<div>\n",
       "<style scoped>\n",
       "    .dataframe tbody tr th:only-of-type {\n",
       "        vertical-align: middle;\n",
       "    }\n",
       "\n",
       "    .dataframe tbody tr th {\n",
       "        vertical-align: top;\n",
       "    }\n",
       "\n",
       "    .dataframe thead th {\n",
       "        text-align: right;\n",
       "    }\n",
       "</style>\n",
       "<table border=\"1\" class=\"dataframe\">\n",
       "  <thead>\n",
       "    <tr style=\"text-align: right;\">\n",
       "      <th></th>\n",
       "      <th>HomePlanet</th>\n",
       "      <th>CryoSleep</th>\n",
       "      <th>Destination</th>\n",
       "      <th>Age</th>\n",
       "      <th>VIP</th>\n",
       "      <th>RoomService</th>\n",
       "      <th>FoodCourt</th>\n",
       "      <th>ShoppingMall</th>\n",
       "      <th>Spa</th>\n",
       "      <th>VRDeck</th>\n",
       "      <th>Transported</th>\n",
       "      <th>Group_count</th>\n",
       "      <th>Single</th>\n",
       "      <th>Deck</th>\n",
       "      <th>Side</th>\n",
       "      <th>Expenses</th>\n",
       "      <th>Age_cut</th>\n",
       "      <th>Expenses_cut</th>\n",
       "    </tr>\n",
       "    <tr>\n",
       "      <th>PassengerId</th>\n",
       "      <th></th>\n",
       "      <th></th>\n",
       "      <th></th>\n",
       "      <th></th>\n",
       "      <th></th>\n",
       "      <th></th>\n",
       "      <th></th>\n",
       "      <th></th>\n",
       "      <th></th>\n",
       "      <th></th>\n",
       "      <th></th>\n",
       "      <th></th>\n",
       "      <th></th>\n",
       "      <th></th>\n",
       "      <th></th>\n",
       "      <th></th>\n",
       "      <th></th>\n",
       "      <th></th>\n",
       "    </tr>\n",
       "  </thead>\n",
       "  <tbody>\n",
       "    <tr>\n",
       "      <th>0001_01</th>\n",
       "      <td>1</td>\n",
       "      <td>0</td>\n",
       "      <td>2</td>\n",
       "      <td>39.0</td>\n",
       "      <td>0</td>\n",
       "      <td>0.0</td>\n",
       "      <td>0.0</td>\n",
       "      <td>0.0</td>\n",
       "      <td>0.0</td>\n",
       "      <td>0.0</td>\n",
       "      <td>0.0</td>\n",
       "      <td>1</td>\n",
       "      <td>1</td>\n",
       "      <td>1</td>\n",
       "      <td>0</td>\n",
       "      <td>0.0</td>\n",
       "      <td>3</td>\n",
       "      <td>0</td>\n",
       "    </tr>\n",
       "    <tr>\n",
       "      <th>0002_01</th>\n",
       "      <td>0</td>\n",
       "      <td>0</td>\n",
       "      <td>2</td>\n",
       "      <td>24.0</td>\n",
       "      <td>0</td>\n",
       "      <td>1.0</td>\n",
       "      <td>1.0</td>\n",
       "      <td>1.0</td>\n",
       "      <td>1.0</td>\n",
       "      <td>1.0</td>\n",
       "      <td>1.0</td>\n",
       "      <td>1</td>\n",
       "      <td>1</td>\n",
       "      <td>5</td>\n",
       "      <td>1</td>\n",
       "      <td>736.0</td>\n",
       "      <td>2</td>\n",
       "      <td>1</td>\n",
       "    </tr>\n",
       "    <tr>\n",
       "      <th>0003_01</th>\n",
       "      <td>1</td>\n",
       "      <td>0</td>\n",
       "      <td>2</td>\n",
       "      <td>58.0</td>\n",
       "      <td>1</td>\n",
       "      <td>1.0</td>\n",
       "      <td>1.0</td>\n",
       "      <td>0.0</td>\n",
       "      <td>1.0</td>\n",
       "      <td>1.0</td>\n",
       "      <td>0.0</td>\n",
       "      <td>2</td>\n",
       "      <td>0</td>\n",
       "      <td>0</td>\n",
       "      <td>1</td>\n",
       "      <td>10383.0</td>\n",
       "      <td>4</td>\n",
       "      <td>4</td>\n",
       "    </tr>\n",
       "    <tr>\n",
       "      <th>0003_02</th>\n",
       "      <td>1</td>\n",
       "      <td>0</td>\n",
       "      <td>2</td>\n",
       "      <td>33.0</td>\n",
       "      <td>0</td>\n",
       "      <td>0.0</td>\n",
       "      <td>1.0</td>\n",
       "      <td>1.0</td>\n",
       "      <td>1.0</td>\n",
       "      <td>1.0</td>\n",
       "      <td>0.0</td>\n",
       "      <td>2</td>\n",
       "      <td>0</td>\n",
       "      <td>0</td>\n",
       "      <td>1</td>\n",
       "      <td>5176.0</td>\n",
       "      <td>3</td>\n",
       "      <td>4</td>\n",
       "    </tr>\n",
       "    <tr>\n",
       "      <th>0004_01</th>\n",
       "      <td>0</td>\n",
       "      <td>0</td>\n",
       "      <td>2</td>\n",
       "      <td>16.0</td>\n",
       "      <td>0</td>\n",
       "      <td>1.0</td>\n",
       "      <td>1.0</td>\n",
       "      <td>1.0</td>\n",
       "      <td>1.0</td>\n",
       "      <td>1.0</td>\n",
       "      <td>1.0</td>\n",
       "      <td>1</td>\n",
       "      <td>1</td>\n",
       "      <td>5</td>\n",
       "      <td>1</td>\n",
       "      <td>1091.0</td>\n",
       "      <td>2</td>\n",
       "      <td>2</td>\n",
       "    </tr>\n",
       "  </tbody>\n",
       "</table>\n",
       "</div>"
      ],
      "text/plain": [
       "             HomePlanet  CryoSleep  Destination   Age  VIP  RoomService  \\\n",
       "PassengerId                                                               \n",
       "0001_01               1          0            2  39.0    0          0.0   \n",
       "0002_01               0          0            2  24.0    0          1.0   \n",
       "0003_01               1          0            2  58.0    1          1.0   \n",
       "0003_02               1          0            2  33.0    0          0.0   \n",
       "0004_01               0          0            2  16.0    0          1.0   \n",
       "\n",
       "             FoodCourt  ShoppingMall  Spa  VRDeck  Transported  Group_count  \\\n",
       "PassengerId                                                                   \n",
       "0001_01            0.0           0.0  0.0     0.0          0.0            1   \n",
       "0002_01            1.0           1.0  1.0     1.0          1.0            1   \n",
       "0003_01            1.0           0.0  1.0     1.0          0.0            2   \n",
       "0003_02            1.0           1.0  1.0     1.0          0.0            2   \n",
       "0004_01            1.0           1.0  1.0     1.0          1.0            1   \n",
       "\n",
       "             Single  Deck  Side  Expenses  Age_cut  Expenses_cut  \n",
       "PassengerId                                                       \n",
       "0001_01           1     1     0       0.0        3             0  \n",
       "0002_01           1     5     1     736.0        2             1  \n",
       "0003_01           0     0     1   10383.0        4             4  \n",
       "0003_02           0     0     1    5176.0        3             4  \n",
       "0004_01           1     5     1    1091.0        2             2  "
      ]
     },
     "execution_count": 2,
     "metadata": {},
     "output_type": "execute_result"
    }
   ],
   "source": [
    "data = pd.read_csv('spaceship_rf.csv', index_col = 'PassengerId')\n",
    "data.head()"
   ]
  },
  {
   "cell_type": "code",
   "execution_count": 3,
   "id": "a98d66f9",
   "metadata": {},
   "outputs": [
    {
     "name": "stdout",
     "output_type": "stream",
     "text": [
      "(8693, 18)\n",
      "(4277, 18)\n"
     ]
    }
   ],
   "source": [
    "train_df = data.loc[data['Transported'].isna() == False]\n",
    "test_df = data.loc[data['Transported'].isna() == True]\n",
    "print(train_df.shape)\n",
    "print(test_df.shape)"
   ]
  },
  {
   "cell_type": "code",
   "execution_count": 4,
   "id": "505e8ca5",
   "metadata": {},
   "outputs": [],
   "source": [
    "features = train_df.columns.tolist()\n",
    "target = 'Transported'\n",
    "features.remove('Transported')"
   ]
  },
  {
   "cell_type": "code",
   "execution_count": 5,
   "id": "e98de0cd",
   "metadata": {},
   "outputs": [],
   "source": [
    "features.remove('Age_cut')\n",
    "features.remove('Expenses_cut')"
   ]
  },
  {
   "cell_type": "code",
   "execution_count": 6,
   "id": "42a700f6",
   "metadata": {},
   "outputs": [],
   "source": [
    "train_df = train_df.astype(int)"
   ]
  },
  {
   "cell_type": "markdown",
   "id": "0ceaae16",
   "metadata": {},
   "source": [
    "Random Forests Wrapper"
   ]
  },
  {
   "cell_type": "code",
   "execution_count": 7,
   "id": "4819ebcb",
   "metadata": {},
   "outputs": [],
   "source": [
    "from sklearn.model_selection import KFold\n",
    "from sklearn import metrics\n",
    "from sklearn.ensemble import RandomForestClassifier\n",
    "from sklearn.metrics import roc_auc_score\n",
    "from sklearn.metrics import accuracy_score\n",
    "\n",
    "def CVTestRF(nFolds = 5, randomState=2137, debug=False,  features=features, saveModels = False, *args, **kwargs):\n",
    "    \n",
    "    kf = KFold(n_splits=nFolds, shuffle=True, random_state=randomState)\n",
    "\n",
    "    testAUCResults = []\n",
    "    trainAUCResults = []\n",
    "    testACCResults = []\n",
    "    trainACCResults = []\n",
    "    predictions = []\n",
    "    indices = []\n",
    "    models = []\n",
    "    \n",
    "    for train, test in kf.split(train_df.index.values):\n",
    "        # Preparing the estimator\n",
    "        clf = RandomForestClassifier(*args, **kwargs, random_state=randomState, n_jobs=-1)\n",
    "        # Show fuction execution\n",
    "        if debug:\n",
    "            print(clf)\n",
    "        \n",
    "        # Training the model\n",
    "        clf.fit(train_df.iloc[train][features], train_df.iloc[train][target])\n",
    "\n",
    "        # Prediction for train and test data\n",
    "        # Sklearn returns two columns of probs for both classes!\n",
    "        predsTrain = clf.predict_proba(train_df[features].iloc[train])[:,1]\n",
    "        predsTest = clf.predict_proba(train_df[features].iloc[test])[:,1]\n",
    "        predsTrain_binary = clf.predict(train_df[features].iloc[train])\n",
    "        predsTest_binary = clf.predict(train_df[features].iloc[test])\n",
    "        \n",
    "        # Storing test predictions for each fold\n",
    "        predictions.append(predsTest.tolist().copy())\n",
    "        \n",
    "        # With indices\n",
    "        indices.append(train_df.iloc[test].index.tolist().copy())\n",
    "        \n",
    "        # Metrics for each fold\n",
    "        trainAUCScore = roc_auc_score((train_df[target].iloc[train]), predsTrain)\n",
    "        testAUCScore = roc_auc_score((train_df[target].iloc[test]), predsTest)\n",
    "        trainACCScore = accuracy_score(train_df[target].iloc[train], predsTrain_binary)\n",
    "        testACCScore = accuracy_score(train_df[target].iloc[test], predsTest_binary)\n",
    "        \n",
    "        # Storing results\n",
    "        trainAUCResults.append(trainAUCScore)\n",
    "        testAUCResults.append(testAUCScore)\n",
    "        trainACCResults.append(trainACCScore)\n",
    "        testACCResults.append(testACCScore)\n",
    "        \n",
    "        # Optional show results\n",
    "        if debug:\n",
    "            print(\"Train AUC:\", trainScore,\n",
    "                  \"Valid AUC:\", testScore)\n",
    "            \n",
    "        # Optional save models\n",
    "        if saveModels:\n",
    "            models.append(clf)\n",
    "        \n",
    "    return trainAUCResults, testAUCResults, trainACCResults, testACCResults, predictions, indices, models"
   ]
  },
  {
   "cell_type": "code",
   "execution_count": 8,
   "id": "0a286253",
   "metadata": {},
   "outputs": [
    {
     "name": "stdout",
     "output_type": "stream",
     "text": [
      "Mean train AUC: 0.994 | Train AUC std: 0.00039\n",
      "Mean test AUC: 0.79 | Test AUC std: 0.00833\n",
      "Mean train ACC: 0.966 | Train ACC std: 0.00095\n",
      "Mean test ACC: 0.728 | Test ACC std: 0.01342\n"
     ]
    }
   ],
   "source": [
    "trainAUCResults, testAUCResults, trainACCResults, testACCResults, predictions, indices, models = CVTestRF()\n",
    "print('Mean train AUC:', np.mean(trainAUCResults).round(3), '| Train AUC std:', np.std(trainAUCResults).round(5))\n",
    "print('Mean test AUC:', np.mean(testAUCResults).round(3), '| Test AUC std:', np.std(testAUCResults).round(5))\n",
    "print('Mean train ACC:', np.mean(trainACCResults).round(3), '| Train ACC std:', np.std(trainACCResults).round(5))\n",
    "print('Mean test ACC:', np.mean(testACCResults).round(3), '| Test ACC std:', np.std(testACCResults).round(5))"
   ]
  },
  {
   "cell_type": "code",
   "execution_count": 9,
   "id": "0a8cac0b",
   "metadata": {},
   "outputs": [],
   "source": [
    "results = [['RF raw', np.mean(testAUCResults).round(3), np.mean(testACCResults).round(3)]]"
   ]
  },
  {
   "cell_type": "markdown",
   "id": "7988f35c",
   "metadata": {},
   "source": [
    "It seems that model is clearly overfitted but we have not performed any feature selection yet. Let's check feature importance."
   ]
  },
  {
   "cell_type": "markdown",
   "id": "a0e897fd",
   "metadata": {},
   "source": [
    "# Feature selection"
   ]
  },
  {
   "cell_type": "code",
   "execution_count": 10,
   "id": "b6ce2e6b",
   "metadata": {},
   "outputs": [
    {
     "data": {
      "text/plain": [
       "[(0.25203794785468847, 'Age'),\n",
       " (0.23602670221127642, 'Expenses'),\n",
       " (0.08890748768087212, 'CryoSleep'),\n",
       " (0.08191664941167012, 'Deck'),\n",
       " (0.05354262096519694, 'Group_count'),\n",
       " (0.04382021652983118, 'Spa'),\n",
       " (0.04227700461154378, 'RoomService'),\n",
       " (0.04054111065946563, 'HomePlanet'),\n",
       " (0.0343246344481739, 'Destination'),\n",
       " (0.033129803182800587, 'VRDeck'),\n",
       " (0.026594882312942637, 'Side'),\n",
       " (0.026319430052935546, 'ShoppingMall'),\n",
       " (0.022589916001626756, 'FoodCourt'),\n",
       " (0.012897494008608956, 'Single'),\n",
       " (0.005074100068367045, 'VIP')]"
      ]
     },
     "execution_count": 10,
     "metadata": {},
     "output_type": "execute_result"
    }
   ],
   "source": [
    "trainAUCResults, testAUCResults, trainACCResults, testACCResults, predictions, indices, models = CVTestRF(saveModels = True)\n",
    "\n",
    "imps = list(zip(models[0].feature_importances_, features))\n",
    "imps.sort(reverse=True)\n",
    "imps"
   ]
  },
  {
   "cell_type": "markdown",
   "id": "9efb16bd",
   "metadata": {},
   "source": [
    "Mini wrapper for feature selection"
   ]
  },
  {
   "cell_type": "code",
   "execution_count": 11,
   "id": "6e5d2c70",
   "metadata": {},
   "outputs": [],
   "source": [
    "from sklearn.model_selection import KFold\n",
    "from sklearn.metrics import roc_auc_score\n",
    "\n",
    "def CVTest(nFolds = 5, randomState=2137, features=[]):\n",
    "    \n",
    "    kf = KFold(n_splits=nFolds, shuffle=True, random_state=randomState)\n",
    "\n",
    "    testResults = []\n",
    "    for train, test in kf.split(train_df.index.values):\n",
    "        clf = RandomForestClassifier(random_state=randomState, n_jobs=-1)\n",
    "        clf.fit(train_df.iloc[train][features], train_df.iloc[train][target])\n",
    "        predsTrain = clf.predict_proba(train_df[features].iloc[train])[:,1]\n",
    "        predsTest = clf.predict_proba(train_df[features].iloc[test])[:,1]\n",
    "        testResults.append(roc_auc_score((train_df[target].iloc[test]), predsTest))\n",
    "        \n",
    "    return np.mean(testResults)"
   ]
  },
  {
   "cell_type": "markdown",
   "id": "2942576d",
   "metadata": {},
   "source": [
    "Let's check the AUC score for each feature (using it as the only feature in model)."
   ]
  },
  {
   "cell_type": "code",
   "execution_count": 12,
   "id": "bfea742d",
   "metadata": {},
   "outputs": [
    {
     "data": {
      "text/plain": [
       "[(0.7225097528579976, 'Expenses'),\n",
       " (0.7186527712888691, 'CryoSleep'),\n",
       " (0.665826549546413, 'Spa'),\n",
       " (0.6645033825132827, 'RoomService'),\n",
       " (0.6580304815333666, 'VRDeck'),\n",
       " (0.6242630362931096, 'ShoppingMall'),\n",
       " (0.6111961739325478, 'FoodCourt'),\n",
       " (0.6059645266175268, 'Deck'),\n",
       " (0.5973598605323456, 'HomePlanet'),\n",
       " (0.5662141116832655, 'Group_count'),\n",
       " (0.5567414584177909, 'Single'),\n",
       " (0.5507408654828813, 'Side'),\n",
       " (0.5481184933262733, 'Destination'),\n",
       " (0.5471591767828248, 'Age'),\n",
       " (0.5056361768860744, 'VIP')]"
      ]
     },
     "execution_count": 12,
     "metadata": {},
     "output_type": "execute_result"
    }
   ],
   "source": [
    "imps2 = []\n",
    "for var in features:\n",
    "    res = CVTest(features=[var])\n",
    "    imps2.append((res, var))\n",
    "\n",
    "imps2.sort(reverse=True)\n",
    "imps2"
   ]
  },
  {
   "cell_type": "markdown",
   "id": "023a41f9",
   "metadata": {},
   "source": [
    "Now let's try different approach. Let's remove each feature one at a time and compare model performance. "
   ]
  },
  {
   "cell_type": "code",
   "execution_count": 13,
   "id": "5f5b74c6",
   "metadata": {},
   "outputs": [
    {
     "data": {
      "text/plain": [
       "[(0.006614674857372771, 'Age'),\n",
       " (0.00321197697074882, 'Destination'),\n",
       " (0.0023501289744272125, 'Group_count'),\n",
       " (0.002191177705739955, 'Single'),\n",
       " (0.002167244214535291, 'VIP'),\n",
       " (-0.0005399954047931033, 'ShoppingMall'),\n",
       " (-0.0023132523564362018, 'CryoSleep'),\n",
       " (-0.0030793450243183917, 'RoomService'),\n",
       " (-0.0038204255699408884, 'HomePlanet'),\n",
       " (-0.004718025930257164, 'FoodCourt'),\n",
       " (-0.005949633758577821, 'Side'),\n",
       " (-0.007278244567115455, 'Spa'),\n",
       " (-0.007473872167478746, 'VRDeck'),\n",
       " (-0.013948730872628046, 'Deck'),\n",
       " (-0.015720449375329792, 'Expenses')]"
      ]
     },
     "execution_count": 13,
     "metadata": {},
     "output_type": "execute_result"
    }
   ],
   "source": [
    "imps3 = []\n",
    "for var in features:\n",
    "    res = CVTest(features=features)\n",
    "    features2 = features.copy()\n",
    "    features2.remove(var)\n",
    "    res2 = CVTest(features=features2)\n",
    "    imps3.append((res2 - res, var))\n",
    "\n",
    "imps3.sort(reverse=True)\n",
    "imps3"
   ]
  },
  {
   "cell_type": "code",
   "execution_count": 14,
   "id": "43beb192",
   "metadata": {},
   "outputs": [
    {
     "data": {
      "text/plain": [
       "[(0.005024875227978454, 'Destination'),\n",
       " (0.004619508872342637, 'Group_count'),\n",
       " (0.0033299033486683394, 'CryoSleep'),\n",
       " (0.0028686539202797956, 'Single'),\n",
       " (0.0021966619753566174, 'VIP'),\n",
       " (0.002051340324468298, 'ShoppingMall'),\n",
       " (-0.002202570682006355, 'HomePlanet'),\n",
       " (-0.003769763146116656, 'Side'),\n",
       " (-0.003924665947023009, 'FoodCourt'),\n",
       " (-0.004904138401199298, 'RoomService'),\n",
       " (-0.006272079721103108, 'VRDeck'),\n",
       " (-0.008283345849735335, 'Expenses'),\n",
       " (-0.009982341454551458, 'Spa'),\n",
       " (-0.013583767856148454, 'Deck')]"
      ]
     },
     "execution_count": 14,
     "metadata": {},
     "output_type": "execute_result"
    }
   ],
   "source": [
    "features.remove('Age')\n",
    "\n",
    "imps3 = []\n",
    "for var in features:\n",
    "    res = CVTest(features=features)\n",
    "    features2 = features.copy()\n",
    "    features2.remove(var)\n",
    "    res2 = CVTest(features=features2)\n",
    "    imps3.append((res2 - res, var))\n",
    "\n",
    "imps3.sort(reverse=True)\n",
    "imps3"
   ]
  },
  {
   "cell_type": "code",
   "execution_count": 15,
   "id": "8a3a4f5f",
   "metadata": {},
   "outputs": [
    {
     "data": {
      "text/plain": [
       "[(0.0004088393076546737, 'VIP'),\n",
       " (0.0002084977065252014, 'Single'),\n",
       " (-0.0009873482950548684, 'ShoppingMall'),\n",
       " (-0.0015394384052778154, 'CryoSleep'),\n",
       " (-0.002375567554775193, 'Group_count'),\n",
       " (-0.005197183885751189, 'RoomService'),\n",
       " (-0.005566505504466357, 'HomePlanet'),\n",
       " (-0.006690248583770431, 'FoodCourt'),\n",
       " (-0.00695626659918569, 'VRDeck'),\n",
       " (-0.009651309324652302, 'Side'),\n",
       " (-0.010142987568016792, 'Expenses'),\n",
       " (-0.010348495823396475, 'Spa'),\n",
       " (-0.019325769104388102, 'Deck')]"
      ]
     },
     "execution_count": 15,
     "metadata": {},
     "output_type": "execute_result"
    }
   ],
   "source": [
    "features.remove('Destination')\n",
    "\n",
    "imps3 = []\n",
    "for var in features:\n",
    "    res = CVTest(features=features)\n",
    "    features2 = features.copy()\n",
    "    features2.remove(var)\n",
    "    res2 = CVTest(features=features2)\n",
    "    imps3.append((res2 - res, var))\n",
    "\n",
    "imps3.sort(reverse=True)\n",
    "imps3"
   ]
  },
  {
   "cell_type": "code",
   "execution_count": 16,
   "id": "dbd5c88e",
   "metadata": {},
   "outputs": [
    {
     "data": {
      "text/plain": [
       "[(0.0016115495655496526, 'Single'),\n",
       " (-0.00043076120467322454, 'ShoppingMall'),\n",
       " (-0.0007056009141033215, 'Group_count'),\n",
       " (-0.001622389506535149, 'CryoSleep'),\n",
       " (-0.004443710614647989, 'HomePlanet'),\n",
       " (-0.005439668523254171, 'FoodCourt'),\n",
       " (-0.005983207298190352, 'VRDeck'),\n",
       " (-0.006191101280475841, 'RoomService'),\n",
       " (-0.009227488696688213, 'Expenses'),\n",
       " (-0.009580745021808612, 'Side'),\n",
       " (-0.010021047216399626, 'Spa'),\n",
       " (-0.017824180893210584, 'Deck')]"
      ]
     },
     "execution_count": 16,
     "metadata": {},
     "output_type": "execute_result"
    }
   ],
   "source": [
    "features.remove('VIP')\n",
    "\n",
    "imps3 = []\n",
    "for var in features:\n",
    "    res = CVTest(features=features)\n",
    "    features2 = features.copy()\n",
    "    features2.remove(var)\n",
    "    res2 = CVTest(features=features2)\n",
    "    imps3.append((res2 - res, var))\n",
    "\n",
    "imps3.sort(reverse=True)\n",
    "imps3"
   ]
  },
  {
   "cell_type": "code",
   "execution_count": 17,
   "id": "9e3510c6",
   "metadata": {},
   "outputs": [
    {
     "data": {
      "text/plain": [
       "[(-0.0009382188312696549, 'ShoppingMall'),\n",
       " (-0.002045278531674466, 'CryoSleep'),\n",
       " (-0.005068703912727512, 'HomePlanet'),\n",
       " (-0.0055200219638603665, 'FoodCourt'),\n",
       " (-0.006020338523003543, 'VRDeck'),\n",
       " (-0.006169766859807746, 'RoomService'),\n",
       " (-0.00739273777355598, 'Group_count'),\n",
       " (-0.008866671521953973, 'Spa'),\n",
       " (-0.009401068658176026, 'Side'),\n",
       " (-0.010562184459950719, 'Expenses'),\n",
       " (-0.016867348255854342, 'Deck')]"
      ]
     },
     "execution_count": 17,
     "metadata": {},
     "output_type": "execute_result"
    }
   ],
   "source": [
    "features.remove('Single')\n",
    "\n",
    "imps3 = []\n",
    "for var in features:\n",
    "    res = CVTest(features=features)\n",
    "    features2 = features.copy()\n",
    "    features2.remove(var)\n",
    "    res2 = CVTest(features=features2)\n",
    "    imps3.append((res2 - res, var))\n",
    "\n",
    "imps3.sort(reverse=True)\n",
    "imps3"
   ]
  },
  {
   "cell_type": "markdown",
   "id": "e7945ef4",
   "metadata": {},
   "source": [
    "Now dropping any variable is worsening the score. Let's finish feature selection here."
   ]
  },
  {
   "cell_type": "code",
   "execution_count": 18,
   "id": "498290c4",
   "metadata": {},
   "outputs": [
    {
     "name": "stdout",
     "output_type": "stream",
     "text": [
      "Mean train AUC: 0.973 | Train AUC std: 0.0006\n",
      "Mean test AUC: 0.803 | Test AUC std: 0.0128\n",
      "Mean train ACC: 0.919 | Train ACC std: 0.00133\n",
      "Mean test ACC: 0.729 | Test ACC std: 0.0121\n"
     ]
    }
   ],
   "source": [
    "trainAUCResults, testAUCResults, trainACCResults, testACCResults, predictions, indices, models = CVTestRF()\n",
    "print('Mean train AUC:', np.mean(trainAUCResults).round(3), '| Train AUC std:', np.std(trainAUCResults).round(5))\n",
    "print('Mean test AUC:', np.mean(testAUCResults).round(3), '| Test AUC std:', np.std(testAUCResults).round(5))\n",
    "print('Mean train ACC:', np.mean(trainACCResults).round(3), '| Train ACC std:', np.std(trainACCResults).round(5))\n",
    "print('Mean test ACC:', np.mean(testACCResults).round(3), '| Test ACC std:', np.std(testACCResults).round(5))"
   ]
  },
  {
   "cell_type": "code",
   "execution_count": 19,
   "id": "82f28c23",
   "metadata": {},
   "outputs": [],
   "source": [
    "results.append(['RF after feature selection', np.mean(testAUCResults).round(3), np.mean(testACCResults).round(3)])"
   ]
  },
  {
   "cell_type": "markdown",
   "id": "b6303ab3",
   "metadata": {},
   "source": [
    "# Hyperparameters tuning"
   ]
  },
  {
   "cell_type": "code",
   "execution_count": 20,
   "id": "1431c773",
   "metadata": {},
   "outputs": [
    {
     "name": "stdout",
     "output_type": "stream",
     "text": [
      "10 0.9693162232577202 0.7901737893994935\n",
      "25 0.9718800923584728 0.7991782952612765\n",
      "50 0.972946913528177 0.8023410039769159\n",
      "100 0.9734893771053954 0.8034354467799487\n",
      "200 0.9736479219026537 0.8043322309858201\n",
      "500 0.9737839295100772 0.8048135728336394\n",
      "1000 0.9738142987219355 0.8047112420269962\n"
     ]
    }
   ],
   "source": [
    "# number of trees\n",
    "for k in [10, 25, 50, 100, 200, 500, 1000]:\n",
    "    trainAUCResults, testAUCResults, trainACCResults, testACCResults, predictions, indices, models = CVTestRF(n_estimators=k)\n",
    "    print(k, np.mean(trainAUCResults), np.mean(testAUCResults))"
   ]
  },
  {
   "cell_type": "code",
   "execution_count": 21,
   "id": "fff07d74",
   "metadata": {},
   "outputs": [
    {
     "name": "stdout",
     "output_type": "stream",
     "text": [
      "2 0.804017880429065 0.8010924046308757\n",
      "4 0.8229331888239495 0.8134897387551453\n",
      "6 0.8408914091975911 0.8189888649680078\n",
      "8 0.8711882273381326 0.8238737557445139\n",
      "10 0.9050095381378362 0.8238236793151081\n",
      "12 0.9339972294065145 0.8207730817261396\n",
      "14 0.9531953790000735 0.8163404789510273\n",
      "16 0.9647849924326858 0.8109546481161768\n",
      "18 0.9706376300197348 0.8070314324427305\n",
      "20 0.9727897993139829 0.804756552846591\n"
     ]
    }
   ],
   "source": [
    "# max depth \n",
    "for k in range(2,22,2):\n",
    "    trainAUCResults, testAUCResults, trainACCResults, testACCResults, predictions, indices, models = CVTestRF(n_estimators=200, max_depth=k)\n",
    "    print(k, np.mean(trainAUCResults), np.mean(testAUCResults))"
   ]
  },
  {
   "cell_type": "code",
   "execution_count": 22,
   "id": "99f3d3ec",
   "metadata": {},
   "outputs": [
    {
     "name": "stdout",
     "output_type": "stream",
     "text": [
      "2 0.8711882273381326 0.8238737557445139\n",
      "4 0.8695943654730396 0.8238815774578363\n",
      "6 0.868113946500541 0.8239241640244247\n",
      "8 0.8666357521991241 0.8234289800628826\n",
      "10 0.8654235482080438 0.8238004789709754\n",
      "12 0.8642124527816668 0.8235860915375122\n"
     ]
    }
   ],
   "source": [
    "# min samples split\n",
    "for k in [2, 4, 6, 8, 10, 12]:\n",
    "    trainAUCResults, testAUCResults, trainACCResults, testACCResults, predictions, indices, models = CVTestRF(n_estimators=200, \n",
    "                                                                                                      max_depth=8,\n",
    "                                                                                                      min_samples_split=k)\n",
    "    print(k, np.mean(trainAUCResults), np.mean(testAUCResults))"
   ]
  },
  {
   "cell_type": "code",
   "execution_count": 23,
   "id": "7763ff43",
   "metadata": {},
   "outputs": [
    {
     "name": "stdout",
     "output_type": "stream",
     "text": [
      "1 0.868113946500541 0.8239241640244247\n",
      "2 0.8658648582119277 0.8231993479848025\n",
      "3 0.8641841239771513 0.8229023590928815\n",
      "4 0.8616880917249758 0.8231692826768487\n",
      "5 0.8601117183890603 0.8228521521873307\n"
     ]
    }
   ],
   "source": [
    "# min samples leaf\n",
    "for k in [1,2,3,4,5]:\n",
    "    trainAUCResults, testAUCResults, trainACCResults, testACCResults, predictions, indices, models = CVTestRF(n_estimators=200, \n",
    "                                                                                                      max_depth=8,\n",
    "                                                                                                      min_samples_split=6,\n",
    "                                                                                                      min_samples_leaf=k)\n",
    "    print(k, np.mean(trainAUCResults), np.mean(testAUCResults))"
   ]
  },
  {
   "cell_type": "code",
   "execution_count": 24,
   "id": "c8f03695",
   "metadata": {},
   "outputs": [
    {
     "name": "stdout",
     "output_type": "stream",
     "text": [
      "2 0.86347586035686 0.8217572797250176\n",
      "4 0.8714855024588799 0.824978549797072\n",
      "6 0.875809378489099 0.8259047676112725\n",
      "8 0.877795944950045 0.826654915728302\n",
      "10 0.8804241012982296 0.8269284287264889\n"
     ]
    }
   ],
   "source": [
    "# max features\n",
    "for k in range(2, len(features) + 1,2):\n",
    "    trainAUCResults, testAUCResults, trainACCResults, testACCResults, predictions, indices, models = CVTestRF(n_estimators=200, \n",
    "                                                                                                      max_depth=8,\n",
    "                                                                                                      min_samples_split=6,\n",
    "                                                                                                      min_samples_leaf=1,\n",
    "                                                                                                      max_features = k)\n",
    "    print(k, np.mean(trainAUCResults), np.mean(testAUCResults))"
   ]
  },
  {
   "cell_type": "code",
   "execution_count": 25,
   "id": "0e6093ef",
   "metadata": {},
   "outputs": [
    {
     "name": "stdout",
     "output_type": "stream",
     "text": [
      "Mean train AUC: 0.882 | Train AUC std: 0.00247\n",
      "Mean test AUC: 0.827 | Test AUC std: 0.00576\n",
      "Mean train ACC: 0.786 | Train ACC std: 0.00169\n",
      "Mean test ACC: 0.753 | Test ACC std: 0.00743\n"
     ]
    }
   ],
   "source": [
    "trainAUCResults, testAUCResults, trainACCResults, testACCResults, predictions, indices, models = CVTestRF(n_estimators=500, \n",
    "                                                                                                      max_depth=8,\n",
    "                                                                                                      min_samples_split=6,\n",
    "                                                                                                      min_samples_leaf=1,\n",
    "                                                                                                      max_features = 11)\n",
    "print('Mean train AUC:', np.mean(trainAUCResults).round(3), '| Train AUC std:', np.std(trainAUCResults).round(5))\n",
    "print('Mean test AUC:', np.mean(testAUCResults).round(3), '| Test AUC std:', np.std(testAUCResults).round(5))\n",
    "print('Mean train ACC:', np.mean(trainACCResults).round(3), '| Train ACC std:', np.std(trainACCResults).round(5))\n",
    "print('Mean test ACC:', np.mean(testACCResults).round(3), '| Test ACC std:', np.std(testACCResults).round(5))"
   ]
  },
  {
   "cell_type": "code",
   "execution_count": 26,
   "id": "23e1b3c7",
   "metadata": {},
   "outputs": [],
   "source": [
    "results.append(['RF after 1st hyperparameters tuning', np.mean(testAUCResults).round(3), np.mean(testACCResults).round(3)])"
   ]
  },
  {
   "cell_type": "markdown",
   "id": "06562659",
   "metadata": {},
   "source": [
    "Now let's try grid search."
   ]
  },
  {
   "cell_type": "markdown",
   "id": "49ed373f",
   "metadata": {},
   "source": [
    "from sklearn.model_selection import GridSearchCV\n",
    "\n",
    "params = {\n",
    "    'bootstrap': [True, False],\n",
    "    'n_estimators' : [100],\n",
    "    'max_depth': [8,9,10,11],\n",
    "    'min_samples_split': [3,4,5,6,7],\n",
    "    'min_samples_leaf': [1,2],\n",
    "    'max_features': [9,10,11]    \n",
    "}\n",
    "\n",
    "clf = RandomForestClassifier()\n",
    "gs = GridSearchCV(estimator = clf, param_grid = params, cv = 3, n_jobs = -1, verbose = 2)"
   ]
  },
  {
   "cell_type": "markdown",
   "id": "70f51ce0",
   "metadata": {},
   "source": [
    "gs.fit(train_df[features], train_df[target])"
   ]
  },
  {
   "cell_type": "markdown",
   "id": "07c183f0",
   "metadata": {},
   "source": [
    "gs.best_params_"
   ]
  },
  {
   "cell_type": "code",
   "execution_count": 27,
   "id": "8b80e8c5",
   "metadata": {},
   "outputs": [
    {
     "name": "stdout",
     "output_type": "stream",
     "text": [
      "Mean train AUC: 0.91 | Train AUC std: 0.00246\n",
      "Mean test AUC: 0.827 | Test AUC std: 0.00668\n",
      "Mean train ACC: 0.808 | Train ACC std: 0.00122\n",
      "Mean test ACC: 0.753 | Test ACC std: 0.00853\n"
     ]
    }
   ],
   "source": [
    "trainAUCResults, testAUCResults, trainACCResults, testACCResults, predictions, indices, models = CVTestRF(n_estimators=500,\n",
    "                                                                                                             bootstrap = True,\n",
    "                                                                                                             max_depth = 10,\n",
    "                                                                                                             max_features = 10,\n",
    "                                                                                                             min_samples_leaf = 1,\n",
    "                                                                                                             min_samples_split = 7)\n",
    "print('Mean train AUC:', np.mean(trainAUCResults).round(3), '| Train AUC std:', np.std(trainAUCResults).round(5))\n",
    "print('Mean test AUC:', np.mean(testAUCResults).round(3), '| Test AUC std:', np.std(testAUCResults).round(5))\n",
    "print('Mean train ACC:', np.mean(trainACCResults).round(3), '| Train ACC std:', np.std(trainACCResults).round(5))\n",
    "print('Mean test ACC:', np.mean(testACCResults).round(3), '| Test ACC std:', np.std(testACCResults).round(5))    "
   ]
  },
  {
   "cell_type": "code",
   "execution_count": 28,
   "id": "3a7ccb36",
   "metadata": {},
   "outputs": [],
   "source": [
    "results.append(['RF after grid searching hyperparameters ', np.mean(testAUCResults).round(3), np.mean(testACCResults).round(3)])"
   ]
  },
  {
   "cell_type": "code",
   "execution_count": 29,
   "id": "0a2ff20c",
   "metadata": {},
   "outputs": [
    {
     "data": {
      "text/html": [
       "<div>\n",
       "<style scoped>\n",
       "    .dataframe tbody tr th:only-of-type {\n",
       "        vertical-align: middle;\n",
       "    }\n",
       "\n",
       "    .dataframe tbody tr th {\n",
       "        vertical-align: top;\n",
       "    }\n",
       "\n",
       "    .dataframe thead th {\n",
       "        text-align: right;\n",
       "    }\n",
       "</style>\n",
       "<table border=\"1\" class=\"dataframe\">\n",
       "  <thead>\n",
       "    <tr style=\"text-align: right;\">\n",
       "      <th></th>\n",
       "      <th>Model name</th>\n",
       "      <th>AUC score</th>\n",
       "      <th>Accuracy</th>\n",
       "    </tr>\n",
       "  </thead>\n",
       "  <tbody>\n",
       "    <tr>\n",
       "      <th>0</th>\n",
       "      <td>RF raw</td>\n",
       "      <td>0.790</td>\n",
       "      <td>0.728</td>\n",
       "    </tr>\n",
       "    <tr>\n",
       "      <th>1</th>\n",
       "      <td>RF after feature selection</td>\n",
       "      <td>0.803</td>\n",
       "      <td>0.729</td>\n",
       "    </tr>\n",
       "    <tr>\n",
       "      <th>2</th>\n",
       "      <td>RF after 1st hyperparameters tuning</td>\n",
       "      <td>0.827</td>\n",
       "      <td>0.753</td>\n",
       "    </tr>\n",
       "    <tr>\n",
       "      <th>3</th>\n",
       "      <td>RF after grid searching hyperparameters</td>\n",
       "      <td>0.827</td>\n",
       "      <td>0.753</td>\n",
       "    </tr>\n",
       "  </tbody>\n",
       "</table>\n",
       "</div>"
      ],
      "text/plain": [
       "                                 Model name  AUC score  Accuracy\n",
       "0                                    RF raw      0.790     0.728\n",
       "1                RF after feature selection      0.803     0.729\n",
       "2       RF after 1st hyperparameters tuning      0.827     0.753\n",
       "3  RF after grid searching hyperparameters       0.827     0.753"
      ]
     },
     "metadata": {},
     "output_type": "display_data"
    }
   ],
   "source": [
    "display(pd.DataFrame(data = results, columns = ['Model name', 'AUC score', 'Accuracy']))"
   ]
  },
  {
   "cell_type": "markdown",
   "id": "36832a9a",
   "metadata": {},
   "source": [
    "# Submission (random forests)"
   ]
  },
  {
   "cell_type": "code",
   "execution_count": 30,
   "id": "1dfd8463",
   "metadata": {},
   "outputs": [
    {
     "data": {
      "text/plain": [
       "0.9033995427469168"
      ]
     },
     "execution_count": 30,
     "metadata": {},
     "output_type": "execute_result"
    }
   ],
   "source": [
    "clf = RandomForestClassifier(n_estimators=500, max_depth=10, min_samples_split=7, min_samples_leaf=1, max_features = 10, \n",
    "                            bootstrap = True)\n",
    "clf.fit(train_df[features], train_df[target])\n",
    "preds = clf.predict_proba(train_df[features])[:,1]\n",
    "roc_auc_score(train_df[target], preds)"
   ]
  },
  {
   "cell_type": "code",
   "execution_count": 31,
   "id": "1426730f",
   "metadata": {},
   "outputs": [
    {
     "name": "stderr",
     "output_type": "stream",
     "text": [
      "<ipython-input-31-a185bc88a0e8>:1: SettingWithCopyWarning: \n",
      "A value is trying to be set on a copy of a slice from a DataFrame.\n",
      "Try using .loc[row_indexer,col_indexer] = value instead\n",
      "\n",
      "See the caveats in the documentation: https://pandas.pydata.org/pandas-docs/stable/user_guide/indexing.html#returning-a-view-versus-a-copy\n",
      "  test_df['Transported'] = clf.predict(test_df[features])\n"
     ]
    },
    {
     "data": {
      "text/plain": [
       "0    2348\n",
       "1    1929\n",
       "Name: Transported, dtype: int64"
      ]
     },
     "execution_count": 31,
     "metadata": {},
     "output_type": "execute_result"
    }
   ],
   "source": [
    "test_df['Transported'] = clf.predict(test_df[features])\n",
    "test_df['Transported'].value_counts()"
   ]
  },
  {
   "cell_type": "code",
   "execution_count": 32,
   "id": "e0dffef9",
   "metadata": {},
   "outputs": [
    {
     "data": {
      "text/html": [
       "<div>\n",
       "<style scoped>\n",
       "    .dataframe tbody tr th:only-of-type {\n",
       "        vertical-align: middle;\n",
       "    }\n",
       "\n",
       "    .dataframe tbody tr th {\n",
       "        vertical-align: top;\n",
       "    }\n",
       "\n",
       "    .dataframe thead th {\n",
       "        text-align: right;\n",
       "    }\n",
       "</style>\n",
       "<table border=\"1\" class=\"dataframe\">\n",
       "  <thead>\n",
       "    <tr style=\"text-align: right;\">\n",
       "      <th></th>\n",
       "      <th>PassengerId</th>\n",
       "      <th>Transported</th>\n",
       "    </tr>\n",
       "  </thead>\n",
       "  <tbody>\n",
       "    <tr>\n",
       "      <th>0</th>\n",
       "      <td>0013_01</td>\n",
       "      <td>True</td>\n",
       "    </tr>\n",
       "    <tr>\n",
       "      <th>1</th>\n",
       "      <td>0018_01</td>\n",
       "      <td>False</td>\n",
       "    </tr>\n",
       "    <tr>\n",
       "      <th>2</th>\n",
       "      <td>0019_01</td>\n",
       "      <td>True</td>\n",
       "    </tr>\n",
       "    <tr>\n",
       "      <th>3</th>\n",
       "      <td>0021_01</td>\n",
       "      <td>False</td>\n",
       "    </tr>\n",
       "    <tr>\n",
       "      <th>4</th>\n",
       "      <td>0023_01</td>\n",
       "      <td>False</td>\n",
       "    </tr>\n",
       "  </tbody>\n",
       "</table>\n",
       "</div>"
      ],
      "text/plain": [
       "  PassengerId  Transported\n",
       "0     0013_01         True\n",
       "1     0018_01        False\n",
       "2     0019_01         True\n",
       "3     0021_01        False\n",
       "4     0023_01        False"
      ]
     },
     "execution_count": 32,
     "metadata": {},
     "output_type": "execute_result"
    }
   ],
   "source": [
    "submission_rf = test_df['Transported'].reset_index()\n",
    "submission_rf['Transported'] = submission_rf['Transported'].replace({1:True, 0:False})\n",
    "submission_rf.head()"
   ]
  },
  {
   "cell_type": "code",
   "execution_count": 33,
   "id": "7aecdd98",
   "metadata": {},
   "outputs": [],
   "source": [
    "#submission_rf.to_csv('submission_rf.csv', index = False)"
   ]
  }
 ],
 "metadata": {
  "kernelspec": {
   "display_name": "Python 3",
   "language": "python",
   "name": "python3"
  },
  "language_info": {
   "codemirror_mode": {
    "name": "ipython",
    "version": 3
   },
   "file_extension": ".py",
   "mimetype": "text/x-python",
   "name": "python",
   "nbconvert_exporter": "python",
   "pygments_lexer": "ipython3",
   "version": "3.8.8"
  }
 },
 "nbformat": 4,
 "nbformat_minor": 5
}
