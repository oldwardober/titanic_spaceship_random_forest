{
 "cells": [
  {
   "cell_type": "markdown",
   "id": "b3c27eb4",
   "metadata": {},
   "source": [
    "# Titanic spaceship - exploratory analysis and data prep"
   ]
  },
  {
   "cell_type": "code",
   "execution_count": 1,
   "id": "4c66dca5",
   "metadata": {},
   "outputs": [],
   "source": [
    "import pandas as pd\n",
    "import numpy as np\n",
    "import ydata_profiling\n",
    "import matplotlib.pyplot as plt\n",
    "import seaborn as sn"
   ]
  },
  {
   "cell_type": "code",
   "execution_count": 2,
   "id": "f29642e8",
   "metadata": {},
   "outputs": [],
   "source": [
    "tt_train = pd.read_csv('train.csv')\n",
    "tt_test = pd.read_csv('test.csv')"
   ]
  },
  {
   "cell_type": "code",
   "execution_count": 3,
   "id": "98b08f5f",
   "metadata": {},
   "outputs": [],
   "source": [
    "merged = pd.concat([tt_train, tt_test], axis = 0)"
   ]
  },
  {
   "cell_type": "code",
   "execution_count": 4,
   "id": "4f0eeeb1",
   "metadata": {},
   "outputs": [
    {
     "data": {
      "text/html": [
       "<div>\n",
       "<style scoped>\n",
       "    .dataframe tbody tr th:only-of-type {\n",
       "        vertical-align: middle;\n",
       "    }\n",
       "\n",
       "    .dataframe tbody tr th {\n",
       "        vertical-align: top;\n",
       "    }\n",
       "\n",
       "    .dataframe thead th {\n",
       "        text-align: right;\n",
       "    }\n",
       "</style>\n",
       "<table border=\"1\" class=\"dataframe\">\n",
       "  <thead>\n",
       "    <tr style=\"text-align: right;\">\n",
       "      <th></th>\n",
       "      <th>PassengerId</th>\n",
       "      <th>HomePlanet</th>\n",
       "      <th>CryoSleep</th>\n",
       "      <th>Cabin</th>\n",
       "      <th>Destination</th>\n",
       "      <th>Age</th>\n",
       "      <th>VIP</th>\n",
       "      <th>RoomService</th>\n",
       "      <th>FoodCourt</th>\n",
       "      <th>ShoppingMall</th>\n",
       "      <th>Spa</th>\n",
       "      <th>VRDeck</th>\n",
       "      <th>Name</th>\n",
       "      <th>Transported</th>\n",
       "    </tr>\n",
       "  </thead>\n",
       "  <tbody>\n",
       "    <tr>\n",
       "      <th>0</th>\n",
       "      <td>0001_01</td>\n",
       "      <td>Europa</td>\n",
       "      <td>False</td>\n",
       "      <td>B/0/P</td>\n",
       "      <td>TRAPPIST-1e</td>\n",
       "      <td>39.0</td>\n",
       "      <td>False</td>\n",
       "      <td>0.0</td>\n",
       "      <td>0.0</td>\n",
       "      <td>0.0</td>\n",
       "      <td>0.0</td>\n",
       "      <td>0.0</td>\n",
       "      <td>Maham Ofracculy</td>\n",
       "      <td>False</td>\n",
       "    </tr>\n",
       "    <tr>\n",
       "      <th>1</th>\n",
       "      <td>0002_01</td>\n",
       "      <td>Earth</td>\n",
       "      <td>False</td>\n",
       "      <td>F/0/S</td>\n",
       "      <td>TRAPPIST-1e</td>\n",
       "      <td>24.0</td>\n",
       "      <td>False</td>\n",
       "      <td>109.0</td>\n",
       "      <td>9.0</td>\n",
       "      <td>25.0</td>\n",
       "      <td>549.0</td>\n",
       "      <td>44.0</td>\n",
       "      <td>Juanna Vines</td>\n",
       "      <td>True</td>\n",
       "    </tr>\n",
       "    <tr>\n",
       "      <th>2</th>\n",
       "      <td>0003_01</td>\n",
       "      <td>Europa</td>\n",
       "      <td>False</td>\n",
       "      <td>A/0/S</td>\n",
       "      <td>TRAPPIST-1e</td>\n",
       "      <td>58.0</td>\n",
       "      <td>True</td>\n",
       "      <td>43.0</td>\n",
       "      <td>3576.0</td>\n",
       "      <td>0.0</td>\n",
       "      <td>6715.0</td>\n",
       "      <td>49.0</td>\n",
       "      <td>Altark Susent</td>\n",
       "      <td>False</td>\n",
       "    </tr>\n",
       "    <tr>\n",
       "      <th>3</th>\n",
       "      <td>0003_02</td>\n",
       "      <td>Europa</td>\n",
       "      <td>False</td>\n",
       "      <td>A/0/S</td>\n",
       "      <td>TRAPPIST-1e</td>\n",
       "      <td>33.0</td>\n",
       "      <td>False</td>\n",
       "      <td>0.0</td>\n",
       "      <td>1283.0</td>\n",
       "      <td>371.0</td>\n",
       "      <td>3329.0</td>\n",
       "      <td>193.0</td>\n",
       "      <td>Solam Susent</td>\n",
       "      <td>False</td>\n",
       "    </tr>\n",
       "    <tr>\n",
       "      <th>4</th>\n",
       "      <td>0004_01</td>\n",
       "      <td>Earth</td>\n",
       "      <td>False</td>\n",
       "      <td>F/1/S</td>\n",
       "      <td>TRAPPIST-1e</td>\n",
       "      <td>16.0</td>\n",
       "      <td>False</td>\n",
       "      <td>303.0</td>\n",
       "      <td>70.0</td>\n",
       "      <td>151.0</td>\n",
       "      <td>565.0</td>\n",
       "      <td>2.0</td>\n",
       "      <td>Willy Santantines</td>\n",
       "      <td>True</td>\n",
       "    </tr>\n",
       "  </tbody>\n",
       "</table>\n",
       "</div>"
      ],
      "text/plain": [
       "  PassengerId HomePlanet CryoSleep  Cabin  Destination   Age    VIP  \\\n",
       "0     0001_01     Europa     False  B/0/P  TRAPPIST-1e  39.0  False   \n",
       "1     0002_01      Earth     False  F/0/S  TRAPPIST-1e  24.0  False   \n",
       "2     0003_01     Europa     False  A/0/S  TRAPPIST-1e  58.0   True   \n",
       "3     0003_02     Europa     False  A/0/S  TRAPPIST-1e  33.0  False   \n",
       "4     0004_01      Earth     False  F/1/S  TRAPPIST-1e  16.0  False   \n",
       "\n",
       "   RoomService  FoodCourt  ShoppingMall     Spa  VRDeck               Name  \\\n",
       "0          0.0        0.0           0.0     0.0     0.0    Maham Ofracculy   \n",
       "1        109.0        9.0          25.0   549.0    44.0       Juanna Vines   \n",
       "2         43.0     3576.0           0.0  6715.0    49.0      Altark Susent   \n",
       "3          0.0     1283.0         371.0  3329.0   193.0       Solam Susent   \n",
       "4        303.0       70.0         151.0   565.0     2.0  Willy Santantines   \n",
       "\n",
       "  Transported  \n",
       "0       False  \n",
       "1        True  \n",
       "2       False  \n",
       "3       False  \n",
       "4        True  "
      ]
     },
     "execution_count": 4,
     "metadata": {},
     "output_type": "execute_result"
    }
   ],
   "source": [
    "merged.head()"
   ]
  },
  {
   "cell_type": "code",
   "execution_count": 5,
   "id": "2bb0104f",
   "metadata": {},
   "outputs": [],
   "source": [
    "#pandas profiling\n",
    "\n",
    "#report = merged.profile_report()\n",
    "#report.to_file(output_file = \"spaceship_report.html\")"
   ]
  },
  {
   "cell_type": "code",
   "execution_count": 6,
   "id": "81468549",
   "metadata": {},
   "outputs": [
    {
     "data": {
      "text/plain": [
       "PassengerId        0\n",
       "HomePlanet       288\n",
       "CryoSleep        310\n",
       "Cabin            299\n",
       "Destination      274\n",
       "Age              270\n",
       "VIP              296\n",
       "RoomService      263\n",
       "FoodCourt        289\n",
       "ShoppingMall     306\n",
       "Spa              284\n",
       "VRDeck           268\n",
       "Name             294\n",
       "Transported     4277\n",
       "dtype: int64"
      ]
     },
     "execution_count": 6,
     "metadata": {},
     "output_type": "execute_result"
    }
   ],
   "source": [
    "merged.isnull().sum()"
   ]
  },
  {
   "cell_type": "code",
   "execution_count": 7,
   "id": "e2bd260f",
   "metadata": {},
   "outputs": [],
   "source": [
    "merged['Transported'] = merged['Transported'].map({True: 1,False: 0})"
   ]
  },
  {
   "cell_type": "markdown",
   "id": "af5640cb",
   "metadata": {},
   "source": [
    "First 4 digits in ID indicate groupID. Let's calculate group count based on that. "
   ]
  },
  {
   "cell_type": "code",
   "execution_count": 8,
   "id": "a58cca54",
   "metadata": {},
   "outputs": [],
   "source": [
    "merged['GroupId'] = merged['PassengerId'].str.split('_', expand = True)[0]\n",
    "merged['Group_count'] = merged.groupby('GroupId')['GroupId'].transform('count')"
   ]
  },
  {
   "cell_type": "code",
   "execution_count": 9,
   "id": "9e8f0cfb",
   "metadata": {},
   "outputs": [
    {
     "data": {
      "text/plain": [
       "Group_count\n",
       "1    0.452445\n",
       "2    0.538050\n",
       "3    0.593137\n",
       "4    0.640777\n",
       "5    0.592453\n",
       "6    0.614943\n",
       "7    0.541126\n",
       "8    0.394231\n",
       "Name: Transported, dtype: float64"
      ]
     },
     "metadata": {},
     "output_type": "display_data"
    }
   ],
   "source": [
    "display(merged.groupby('Group_count')['Transported'].mean())"
   ]
  },
  {
   "cell_type": "code",
   "execution_count": 10,
   "id": "3c082c06",
   "metadata": {},
   "outputs": [],
   "source": [
    "#creating binary variable 'single'\n",
    "\n",
    "merged['Single'] = [1 if x == 1 else 0 for x in merged['Group_count']]"
   ]
  },
  {
   "cell_type": "code",
   "execution_count": 11,
   "id": "8b288a02",
   "metadata": {},
   "outputs": [
    {
     "data": {
      "text/plain": [
       "Single\n",
       "0    0.566872\n",
       "1    0.452445\n",
       "Name: Transported, dtype: float64"
      ]
     },
     "metadata": {},
     "output_type": "display_data"
    }
   ],
   "source": [
    "display(merged.groupby('Single')['Transported'].mean())"
   ]
  },
  {
   "cell_type": "markdown",
   "id": "e585ce6a",
   "metadata": {},
   "source": [
    "Home Planet seems to be important for predicting transportation. "
   ]
  },
  {
   "cell_type": "code",
   "execution_count": 12,
   "id": "57390853",
   "metadata": {},
   "outputs": [
    {
     "name": "stderr",
     "output_type": "stream",
     "text": [
      "C:\\Users\\kszaf\\anaconda3\\lib\\site-packages\\seaborn\\_decorators.py:36: FutureWarning: Pass the following variable as a keyword arg: x. From version 0.12, the only valid positional argument will be `data`, and passing other arguments without an explicit keyword will result in an error or misinterpretation.\n",
      "  warnings.warn(\n"
     ]
    },
    {
     "data": {
      "text/plain": [
       "<AxesSubplot:xlabel='HomePlanet', ylabel='count'>"
      ]
     },
     "execution_count": 12,
     "metadata": {},
     "output_type": "execute_result"
    },
    {
     "data": {
      "image/png": "[encoded data removed]",
      "text/plain": [
       "<Figure size 432x288 with 1 Axes>"
      ]
     },
     "metadata": {
      "needs_background": "light"
     },
     "output_type": "display_data"
    }
   ],
   "source": [
    "sn.countplot(merged['HomePlanet'], hue = merged['Transported'])"
   ]
  },
  {
   "cell_type": "code",
   "execution_count": 13,
   "id": "9e328e7c",
   "metadata": {},
   "outputs": [],
   "source": [
    "merged['HomePlanet'].fillna('Earth', inplace = True)"
   ]
  },
  {
   "cell_type": "markdown",
   "id": "6d58be1c",
   "metadata": {},
   "source": [
    "Most people in cryo capsules got tranposrted."
   ]
  },
  {
   "cell_type": "code",
   "execution_count": 14,
   "id": "6e586480",
   "metadata": {},
   "outputs": [
    {
     "name": "stderr",
     "output_type": "stream",
     "text": [
      "C:\\Users\\kszaf\\anaconda3\\lib\\site-packages\\seaborn\\_decorators.py:36: FutureWarning: Pass the following variable as a keyword arg: x. From version 0.12, the only valid positional argument will be `data`, and passing other arguments without an explicit keyword will result in an error or misinterpretation.\n",
      "  warnings.warn(\n"
     ]
    },
    {
     "data": {
      "text/plain": [
       "<AxesSubplot:xlabel='CryoSleep', ylabel='count'>"
      ]
     },
     "execution_count": 14,
     "metadata": {},
     "output_type": "execute_result"
    },
    {
     "data": {
      "image/png": "[encoded data removed]",
      "text/plain": [
       "<Figure size 432x288 with 1 Axes>"
      ]
     },
     "metadata": {
      "needs_background": "light"
     },
     "output_type": "display_data"
    }
   ],
   "source": [
    "sn.countplot(merged['CryoSleep'], hue = merged['Transported'])"
   ]
  },
  {
   "cell_type": "markdown",
   "id": "34789a75",
   "metadata": {},
   "source": [
    "This variable may be also useful to predict some missing values. Probably sleeping people have not spent any money on the ship.."
   ]
  },
  {
   "cell_type": "code",
   "execution_count": 15,
   "id": "1e7700d9",
   "metadata": {},
   "outputs": [
    {
     "data": {
      "text/html": [
       "<div>\n",
       "<style scoped>\n",
       "    .dataframe tbody tr th:only-of-type {\n",
       "        vertical-align: middle;\n",
       "    }\n",
       "\n",
       "    .dataframe tbody tr th {\n",
       "        vertical-align: top;\n",
       "    }\n",
       "\n",
       "    .dataframe thead th {\n",
       "        text-align: right;\n",
       "    }\n",
       "</style>\n",
       "<table border=\"1\" class=\"dataframe\">\n",
       "  <thead>\n",
       "    <tr style=\"text-align: right;\">\n",
       "      <th></th>\n",
       "      <th>RoomService</th>\n",
       "      <th>FoodCourt</th>\n",
       "      <th>ShoppingMall</th>\n",
       "      <th>Spa</th>\n",
       "      <th>VRDeck</th>\n",
       "    </tr>\n",
       "    <tr>\n",
       "      <th>CryoSleep</th>\n",
       "      <th></th>\n",
       "      <th></th>\n",
       "      <th></th>\n",
       "      <th></th>\n",
       "      <th></th>\n",
       "    </tr>\n",
       "  </thead>\n",
       "  <tbody>\n",
       "    <tr>\n",
       "      <th>False</th>\n",
       "      <td>2762500.0</td>\n",
       "      <td>5604644.0</td>\n",
       "      <td>2169748.0</td>\n",
       "      <td>3814594.0</td>\n",
       "      <td>3809418.0</td>\n",
       "    </tr>\n",
       "    <tr>\n",
       "      <th>True</th>\n",
       "      <td>0.0</td>\n",
       "      <td>0.0</td>\n",
       "      <td>0.0</td>\n",
       "      <td>0.0</td>\n",
       "      <td>0.0</td>\n",
       "    </tr>\n",
       "  </tbody>\n",
       "</table>\n",
       "</div>"
      ],
      "text/plain": [
       "           RoomService  FoodCourt  ShoppingMall        Spa     VRDeck\n",
       "CryoSleep                                                            \n",
       "False        2762500.0  5604644.0     2169748.0  3814594.0  3809418.0\n",
       "True               0.0        0.0           0.0        0.0        0.0"
      ]
     },
     "execution_count": 15,
     "metadata": {},
     "output_type": "execute_result"
    }
   ],
   "source": [
    "merged.groupby('CryoSleep')[['RoomService', 'FoodCourt', 'ShoppingMall', 'Spa', 'VRDeck']].sum()"
   ]
  },
  {
   "cell_type": "markdown",
   "id": "b0d9d4b4",
   "metadata": {},
   "source": [
    "Filling missing value in \"expenses\" columns with zeros for sleeping passengers. "
   ]
  },
  {
   "cell_type": "code",
   "execution_count": 16,
   "id": "8f062425",
   "metadata": {},
   "outputs": [],
   "source": [
    "expenses = ['RoomService', 'FoodCourt', 'ShoppingMall', 'Spa', 'VRDeck']\n",
    "\n",
    "for column in expenses:\n",
    "    merged.loc[merged['CryoSleep'] == True, column] = merged.loc[merged['CryoSleep'] == True, column].fillna(0)"
   ]
  },
  {
   "cell_type": "code",
   "execution_count": 17,
   "id": "0d4999b9",
   "metadata": {},
   "outputs": [],
   "source": [
    "merged['CryoSleep'].fillna(True, inplace = True)"
   ]
  },
  {
   "cell_type": "markdown",
   "id": "408a771f",
   "metadata": {},
   "source": [
    "Creating Deck and Side columns from Cabin Column (deck/num/side)"
   ]
  },
  {
   "cell_type": "code",
   "execution_count": 18,
   "id": "8f445d25",
   "metadata": {},
   "outputs": [],
   "source": [
    "merged['Deck'] = merged['Cabin'].str.split('/', expand = True)[0]\n",
    "merged['Cabin_number'] = merged['Cabin'].str.split('/', expand = True)[1]\n",
    "merged['Side'] = merged['Cabin'].str.split('/', expand = True)[2]"
   ]
  },
  {
   "cell_type": "code",
   "execution_count": 19,
   "id": "1d3aaeac",
   "metadata": {},
   "outputs": [],
   "source": [
    "merged = merged.drop('Cabin', axis=1)"
   ]
  },
  {
   "cell_type": "code",
   "execution_count": 20,
   "id": "3a8897aa",
   "metadata": {},
   "outputs": [
    {
     "name": "stderr",
     "output_type": "stream",
     "text": [
      "C:\\Users\\kszaf\\anaconda3\\lib\\site-packages\\seaborn\\_decorators.py:36: FutureWarning: Pass the following variable as a keyword arg: x. From version 0.12, the only valid positional argument will be `data`, and passing other arguments without an explicit keyword will result in an error or misinterpretation.\n",
      "  warnings.warn(\n",
      "C:\\Users\\kszaf\\anaconda3\\lib\\site-packages\\seaborn\\_decorators.py:36: FutureWarning: Pass the following variable as a keyword arg: x. From version 0.12, the only valid positional argument will be `data`, and passing other arguments without an explicit keyword will result in an error or misinterpretation.\n",
      "  warnings.warn(\n"
     ]
    },
    {
     "data": {
      "text/plain": [
       "<AxesSubplot:xlabel='Side', ylabel='count'>"
      ]
     },
     "execution_count": 20,
     "metadata": {},
     "output_type": "execute_result"
    },
    {
     "data": {
      "image/png": "[encoded data removed]",
      "text/plain": [
       "<Figure size 576x576 with 2 Axes>"
      ]
     },
     "metadata": {
      "needs_background": "light"
     },
     "output_type": "display_data"
    }
   ],
   "source": [
    "fig, ax = plt.subplots(2, 1, figsize = (8,8))\n",
    "\n",
    "sn.countplot(merged['Deck'], hue = merged['Transported'], ax = ax[0])\n",
    "sn.countplot(merged['Side'], hue = merged['Transported'], ax = ax[1])"
   ]
  },
  {
   "cell_type": "code",
   "execution_count": 21,
   "id": "8a488188",
   "metadata": {},
   "outputs": [],
   "source": [
    "merged['Deck'].fillna('F', inplace = True)\n",
    "merged['Side'].fillna('S', inplace = True)"
   ]
  },
  {
   "cell_type": "markdown",
   "id": "afffd149",
   "metadata": {},
   "source": [
    "What about destination?"
   ]
  },
  {
   "cell_type": "code",
   "execution_count": 22,
   "id": "3c49a58d",
   "metadata": {},
   "outputs": [
    {
     "name": "stderr",
     "output_type": "stream",
     "text": [
      "C:\\Users\\kszaf\\anaconda3\\lib\\site-packages\\seaborn\\_decorators.py:36: FutureWarning: Pass the following variable as a keyword arg: x. From version 0.12, the only valid positional argument will be `data`, and passing other arguments without an explicit keyword will result in an error or misinterpretation.\n",
      "  warnings.warn(\n"
     ]
    },
    {
     "data": {
      "text/plain": [
       "<AxesSubplot:xlabel='Destination', ylabel='count'>"
      ]
     },
     "execution_count": 22,
     "metadata": {},
     "output_type": "execute_result"
    },
    {
     "data": {
      "image/png": "[encoded data removed]",
      "text/plain": [
       "<Figure size 432x288 with 1 Axes>"
      ]
     },
     "metadata": {
      "needs_background": "light"
     },
     "output_type": "display_data"
    }
   ],
   "source": [
    "sn.countplot('Destination', hue = 'Transported', data=merged)"
   ]
  },
  {
   "cell_type": "code",
   "execution_count": 23,
   "id": "fe84c692",
   "metadata": {},
   "outputs": [],
   "source": [
    "merged['Destination'].fillna('TRAPPIST-1e', inplace = True)"
   ]
  },
  {
   "cell_type": "markdown",
   "id": "91b063cd",
   "metadata": {},
   "source": [
    "VIP"
   ]
  },
  {
   "cell_type": "code",
   "execution_count": 24,
   "id": "929e8217",
   "metadata": {},
   "outputs": [
    {
     "data": {
      "text/html": [
       "<div>\n",
       "<style scoped>\n",
       "    .dataframe tbody tr th:only-of-type {\n",
       "        vertical-align: middle;\n",
       "    }\n",
       "\n",
       "    .dataframe tbody tr th {\n",
       "        vertical-align: top;\n",
       "    }\n",
       "\n",
       "    .dataframe thead th {\n",
       "        text-align: right;\n",
       "    }\n",
       "</style>\n",
       "<table border=\"1\" class=\"dataframe\">\n",
       "  <thead>\n",
       "    <tr style=\"text-align: right;\">\n",
       "      <th></th>\n",
       "      <th>VIP</th>\n",
       "      <th>Transported</th>\n",
       "    </tr>\n",
       "    <tr>\n",
       "      <th>VIP</th>\n",
       "      <th></th>\n",
       "      <th></th>\n",
       "    </tr>\n",
       "  </thead>\n",
       "  <tbody>\n",
       "    <tr>\n",
       "      <th>False</th>\n",
       "      <td>12401</td>\n",
       "      <td>0.506332</td>\n",
       "    </tr>\n",
       "    <tr>\n",
       "      <th>True</th>\n",
       "      <td>273</td>\n",
       "      <td>0.381910</td>\n",
       "    </tr>\n",
       "  </tbody>\n",
       "</table>\n",
       "</div>"
      ],
      "text/plain": [
       "         VIP  Transported\n",
       "VIP                      \n",
       "False  12401     0.506332\n",
       "True     273     0.381910"
      ]
     },
     "execution_count": 24,
     "metadata": {},
     "output_type": "execute_result"
    }
   ],
   "source": [
    "merged.groupby('VIP').agg({'VIP':'count', 'Transported':'mean'})"
   ]
  },
  {
   "cell_type": "code",
   "execution_count": 25,
   "id": "543a324a",
   "metadata": {},
   "outputs": [],
   "source": [
    "merged['VIP'].fillna(False, inplace = True)"
   ]
  },
  {
   "cell_type": "code",
   "execution_count": 26,
   "id": "b8c58575",
   "metadata": {},
   "outputs": [
    {
     "data": {
      "text/plain": [
       "<AxesSubplot:>"
      ]
     },
     "execution_count": 26,
     "metadata": {},
     "output_type": "execute_result"
    },
    {
     "data": {
      "image/png": "[encoded data removed]",
      "text/plain": [
       "<Figure size 576x576 with 2 Axes>"
      ]
     },
     "metadata": {
      "needs_background": "light"
     },
     "output_type": "display_data"
    }
   ],
   "source": [
    "corr = merged[['Transported', 'Age', 'RoomService', 'FoodCourt', 'ShoppingMall', 'Spa', 'VRDeck', 'Group_count']].corr()\n",
    "\n",
    "# 'mask'\n",
    "mask = np.triu(np.ones_like(corr, dtype=bool))\n",
    "\n",
    "# heatmap\n",
    "fig, ax = plt.subplots(figsize=(8, 8))\n",
    "\n",
    "cmap = sn.diverging_palette(230, 20, as_cmap=True)\n",
    "sn.heatmap(corr, annot=True, mask=mask, cmap=cmap, vmax=.3, center=0,\n",
    "            square=True, linewidths=.5, cbar_kws={\"shrink\": .5})"
   ]
  },
  {
   "cell_type": "code",
   "execution_count": 27,
   "id": "cd20a639",
   "metadata": {},
   "outputs": [
    {
     "name": "stderr",
     "output_type": "stream",
     "text": [
      "C:\\Users\\kszaf\\anaconda3\\lib\\site-packages\\seaborn\\distributions.py:2557: FutureWarning: `distplot` is a deprecated function and will be removed in a future version. Please adapt your code to use either `displot` (a figure-level function with similar flexibility) or `histplot` (an axes-level function for histograms).\n",
      "  warnings.warn(msg, FutureWarning)\n",
      "C:\\Users\\kszaf\\anaconda3\\lib\\site-packages\\seaborn\\distributions.py:2557: FutureWarning: `distplot` is a deprecated function and will be removed in a future version. Please adapt your code to use either `displot` (a figure-level function with similar flexibility) or `histplot` (an axes-level function for histograms).\n",
      "  warnings.warn(msg, FutureWarning)\n",
      "C:\\Users\\kszaf\\anaconda3\\lib\\site-packages\\seaborn\\distributions.py:2557: FutureWarning: `distplot` is a deprecated function and will be removed in a future version. Please adapt your code to use either `displot` (a figure-level function with similar flexibility) or `histplot` (an axes-level function for histograms).\n",
      "  warnings.warn(msg, FutureWarning)\n",
      "C:\\Users\\kszaf\\anaconda3\\lib\\site-packages\\seaborn\\distributions.py:2557: FutureWarning: `distplot` is a deprecated function and will be removed in a future version. Please adapt your code to use either `displot` (a figure-level function with similar flexibility) or `histplot` (an axes-level function for histograms).\n",
      "  warnings.warn(msg, FutureWarning)\n",
      "C:\\Users\\kszaf\\anaconda3\\lib\\site-packages\\seaborn\\distributions.py:2557: FutureWarning: `distplot` is a deprecated function and will be removed in a future version. Please adapt your code to use either `displot` (a figure-level function with similar flexibility) or `histplot` (an axes-level function for histograms).\n",
      "  warnings.warn(msg, FutureWarning)\n",
      "C:\\Users\\kszaf\\anaconda3\\lib\\site-packages\\seaborn\\distributions.py:2557: FutureWarning: `distplot` is a deprecated function and will be removed in a future version. Please adapt your code to use either `displot` (a figure-level function with similar flexibility) or `histplot` (an axes-level function for histograms).\n",
      "  warnings.warn(msg, FutureWarning)\n"
     ]
    },
    {
     "data": {
      "text/plain": [
       "<AxesSubplot:xlabel='VRDeck', ylabel='Density'>"
      ]
     },
     "execution_count": 27,
     "metadata": {},
     "output_type": "execute_result"
    },
    {
     "data": {
      "image/png": "[encoded data removed]",
      "text/plain": [
       "<Figure size 720x720 with 6 Axes>"
      ]
     },
     "metadata": {
      "needs_background": "light"
     },
     "output_type": "display_data"
    }
   ],
   "source": [
    "fig, ax = plt.subplots(3, 2, figsize = (10,10))\n",
    "\n",
    "sn.distplot(merged['Age'], ax = ax[0,0])\n",
    "sn.distplot(merged['RoomService'], ax = ax[0,1])\n",
    "sn.distplot(merged['FoodCourt'], ax = ax[1,0])\n",
    "sn.distplot(merged['ShoppingMall'], ax = ax[1,1])\n",
    "sn.distplot(merged['Spa'], ax = ax[2,0])\n",
    "sn.distplot(merged['VRDeck'], ax = ax[2,1])"
   ]
  },
  {
   "cell_type": "markdown",
   "id": "8eeadfd4",
   "metadata": {},
   "source": [
    "Probably it would be good idea to convert this variables into binary one (0 for x=0, 1 for x>0). We can also sum all expenses into single column. Let's to both. "
   ]
  },
  {
   "cell_type": "code",
   "execution_count": 28,
   "id": "ccea832f",
   "metadata": {},
   "outputs": [],
   "source": [
    "merged['Expenses'] = np.sum(merged.iloc[:,6:11], axis=1)"
   ]
  },
  {
   "cell_type": "code",
   "execution_count": 29,
   "id": "98b7e939",
   "metadata": {},
   "outputs": [],
   "source": [
    "# filling missing values in Age with mean value\n",
    "\n",
    "merged['Age'].fillna(np.mean(merged['Age']), inplace = True)"
   ]
  },
  {
   "cell_type": "code",
   "execution_count": 30,
   "id": "1c8ed748",
   "metadata": {},
   "outputs": [
    {
     "name": "stderr",
     "output_type": "stream",
     "text": [
      "C:\\Users\\kszaf\\anaconda3\\lib\\site-packages\\pandas\\core\\indexing.py:1637: SettingWithCopyWarning: \n",
      "A value is trying to be set on a copy of a slice from a DataFrame\n",
      "\n",
      "See the caveats in the documentation: https://pandas.pydata.org/pandas-docs/stable/user_guide/indexing.html#returning-a-view-versus-a-copy\n",
      "  self._setitem_single_block(indexer, value, name)\n",
      "C:\\Users\\kszaf\\anaconda3\\lib\\site-packages\\pandas\\core\\indexing.py:1637: SettingWithCopyWarning: \n",
      "A value is trying to be set on a copy of a slice from a DataFrame\n",
      "\n",
      "See the caveats in the documentation: https://pandas.pydata.org/pandas-docs/stable/user_guide/indexing.html#returning-a-view-versus-a-copy\n",
      "  self._setitem_single_block(indexer, value, name)\n",
      "C:\\Users\\kszaf\\anaconda3\\lib\\site-packages\\pandas\\core\\indexing.py:1637: SettingWithCopyWarning: \n",
      "A value is trying to be set on a copy of a slice from a DataFrame\n",
      "\n",
      "See the caveats in the documentation: https://pandas.pydata.org/pandas-docs/stable/user_guide/indexing.html#returning-a-view-versus-a-copy\n",
      "  self._setitem_single_block(indexer, value, name)\n",
      "C:\\Users\\kszaf\\anaconda3\\lib\\site-packages\\pandas\\core\\indexing.py:1637: SettingWithCopyWarning: \n",
      "A value is trying to be set on a copy of a slice from a DataFrame\n",
      "\n",
      "See the caveats in the documentation: https://pandas.pydata.org/pandas-docs/stable/user_guide/indexing.html#returning-a-view-versus-a-copy\n",
      "  self._setitem_single_block(indexer, value, name)\n",
      "C:\\Users\\kszaf\\anaconda3\\lib\\site-packages\\pandas\\core\\indexing.py:1637: SettingWithCopyWarning: \n",
      "A value is trying to be set on a copy of a slice from a DataFrame\n",
      "\n",
      "See the caveats in the documentation: https://pandas.pydata.org/pandas-docs/stable/user_guide/indexing.html#returning-a-view-versus-a-copy\n",
      "  self._setitem_single_block(indexer, value, name)\n"
     ]
    }
   ],
   "source": [
    "merged['RoomService'].loc[merged['RoomService'].notna() == True] = [0 if x == 0 else 1 for x in merged['RoomService'].loc[merged['RoomService'].notna() == True]]\n",
    "merged['FoodCourt'].loc[merged['FoodCourt'].notna() == True] = [0 if x == 0 else 1 for x in merged['FoodCourt'].loc[merged['FoodCourt'].notna() == True]]\n",
    "merged['ShoppingMall'].loc[merged['ShoppingMall'].notna() == True] = [0 if x == 0 else 1 for x in merged['ShoppingMall'].loc[merged['ShoppingMall'].notna() == True]]\n",
    "merged['Spa'].loc[merged['Spa'].notna() == True] = [0 if x == 0 else 1 for x in merged['Spa'].loc[merged['Spa'].notna() == True]]\n",
    "merged['VRDeck'].loc[merged['VRDeck'].notna() == True] = [0 if x == 0 else 1 for x in merged['VRDeck'].loc[merged['VRDeck'].notna() == True]]\n",
    "merged['Age_cut'] = pd.cut(merged['Age'], [-1,0,15,30,45,60,80])"
   ]
  },
  {
   "cell_type": "code",
   "execution_count": 31,
   "id": "7ab79e91",
   "metadata": {},
   "outputs": [],
   "source": [
    "merged.iloc[:,6:11] = merged.iloc[:,6:11].fillna(0)"
   ]
  },
  {
   "cell_type": "code",
   "execution_count": 32,
   "id": "9fae5f2f",
   "metadata": {},
   "outputs": [
    {
     "name": "stderr",
     "output_type": "stream",
     "text": [
      "C:\\Users\\kszaf\\anaconda3\\lib\\site-packages\\seaborn\\_decorators.py:36: FutureWarning: Pass the following variable as a keyword arg: x. From version 0.12, the only valid positional argument will be `data`, and passing other arguments without an explicit keyword will result in an error or misinterpretation.\n",
      "  warnings.warn(\n",
      "C:\\Users\\kszaf\\anaconda3\\lib\\site-packages\\seaborn\\_decorators.py:36: FutureWarning: Pass the following variable as a keyword arg: x. From version 0.12, the only valid positional argument will be `data`, and passing other arguments without an explicit keyword will result in an error or misinterpretation.\n",
      "  warnings.warn(\n",
      "C:\\Users\\kszaf\\anaconda3\\lib\\site-packages\\seaborn\\_decorators.py:36: FutureWarning: Pass the following variable as a keyword arg: x. From version 0.12, the only valid positional argument will be `data`, and passing other arguments without an explicit keyword will result in an error or misinterpretation.\n",
      "  warnings.warn(\n",
      "C:\\Users\\kszaf\\anaconda3\\lib\\site-packages\\seaborn\\_decorators.py:36: FutureWarning: Pass the following variable as a keyword arg: x. From version 0.12, the only valid positional argument will be `data`, and passing other arguments without an explicit keyword will result in an error or misinterpretation.\n",
      "  warnings.warn(\n",
      "C:\\Users\\kszaf\\anaconda3\\lib\\site-packages\\seaborn\\_decorators.py:36: FutureWarning: Pass the following variable as a keyword arg: x. From version 0.12, the only valid positional argument will be `data`, and passing other arguments without an explicit keyword will result in an error or misinterpretation.\n",
      "  warnings.warn(\n",
      "C:\\Users\\kszaf\\anaconda3\\lib\\site-packages\\seaborn\\_decorators.py:36: FutureWarning: Pass the following variable as a keyword arg: x. From version 0.12, the only valid positional argument will be `data`, and passing other arguments without an explicit keyword will result in an error or misinterpretation.\n",
      "  warnings.warn(\n"
     ]
    },
    {
     "data": {
      "text/plain": [
       "<AxesSubplot:xlabel='VRDeck', ylabel='count'>"
      ]
     },
     "execution_count": 32,
     "metadata": {},
     "output_type": "execute_result"
    },
    {
     "data": {
      "image/png": "[encoded data removed]",
      "text/plain": [
       "<Figure size 576x864 with 6 Axes>"
      ]
     },
     "metadata": {
      "needs_background": "light"
     },
     "output_type": "display_data"
    }
   ],
   "source": [
    "fig, ax = plt.subplots(3, 2, figsize = (8,12))\n",
    "\n",
    "sn.countplot(merged['Age_cut'], hue = merged['Transported'], ax = ax[0,0])\n",
    "sn.countplot(merged['RoomService'], hue = merged['Transported'], ax = ax[0,1])\n",
    "sn.countplot(merged['FoodCourt'], hue = merged['Transported'], ax = ax[1,0])\n",
    "sn.countplot(merged['ShoppingMall'], hue = merged['Transported'], ax = ax[1,1])\n",
    "sn.countplot(merged['Spa'], hue = merged['Transported'], ax = ax[2,0])\n",
    "sn.countplot(merged['VRDeck'], hue = merged['Transported'], ax = ax[2,1])"
   ]
  },
  {
   "cell_type": "markdown",
   "id": "f44f4975",
   "metadata": {},
   "source": [
    "It seems that it's good to spend money on the ship..."
   ]
  },
  {
   "cell_type": "code",
   "execution_count": 33,
   "id": "d4a82684",
   "metadata": {},
   "outputs": [
    {
     "data": {
      "text/plain": [
       "<AxesSubplot:>"
      ]
     },
     "execution_count": 33,
     "metadata": {},
     "output_type": "execute_result"
    },
    {
     "data": {
      "image/png": "[encoded data removed]",
      "text/plain": [
       "<Figure size 432x288 with 1 Axes>"
      ]
     },
     "metadata": {
      "needs_background": "light"
     },
     "output_type": "display_data"
    }
   ],
   "source": [
    "merged['Expenses'].hist(bins=15)"
   ]
  },
  {
   "cell_type": "code",
   "execution_count": 34,
   "id": "8a1b18f1",
   "metadata": {},
   "outputs": [
    {
     "data": {
      "text/plain": [
       "(-1, 0]          5457\n",
       "(0, 1000]        3235\n",
       "(1000, 2500]     2271\n",
       "(2500, 5000]     1076\n",
       "(5000, 40000]     931\n",
       "Name: Expenses_cut, dtype: int64"
      ]
     },
     "execution_count": 34,
     "metadata": {},
     "output_type": "execute_result"
    }
   ],
   "source": [
    "merged['Expenses_cut'] = pd.cut(merged['Expenses'], [-1,0,1000,2500,5000,40000])\n",
    "merged['Expenses_cut'].value_counts()"
   ]
  },
  {
   "cell_type": "code",
   "execution_count": 35,
   "id": "c0814b5c",
   "metadata": {},
   "outputs": [
    {
     "name": "stderr",
     "output_type": "stream",
     "text": [
      "C:\\Users\\kszaf\\anaconda3\\lib\\site-packages\\seaborn\\_decorators.py:36: FutureWarning: Pass the following variable as a keyword arg: x. From version 0.12, the only valid positional argument will be `data`, and passing other arguments without an explicit keyword will result in an error or misinterpretation.\n",
      "  warnings.warn(\n"
     ]
    },
    {
     "data": {
      "text/plain": [
       "<AxesSubplot:xlabel='Expenses_cut', ylabel='count'>"
      ]
     },
     "execution_count": 35,
     "metadata": {},
     "output_type": "execute_result"
    },
    {
     "data": {
      "image/png": "[encoded data removed]",
      "text/plain": [
       "<Figure size 432x288 with 1 Axes>"
      ]
     },
     "metadata": {
      "needs_background": "light"
     },
     "output_type": "display_data"
    }
   ],
   "source": [
    "sn.countplot('Expenses_cut', hue = 'Transported', data=merged)"
   ]
  },
  {
   "cell_type": "markdown",
   "id": "4ebe29c3",
   "metadata": {},
   "source": [
    "Mutual Information"
   ]
  },
  {
   "cell_type": "code",
   "execution_count": 36,
   "id": "6b11b267",
   "metadata": {},
   "outputs": [
    {
     "name": "stdout",
     "output_type": "stream",
     "text": [
      "Mutual Information for Survived and categorical variables: \n",
      "HomePlanet = 0.023249847185013106\n",
      "CryoSleep = 0.10845085464607629\n",
      "Destination = 0.01040351676115625\n",
      "Age_cut = 0.003051743462744838\n",
      "VIP = 0\n",
      "RoomService = 0.060280367604525154\n",
      "FoodCourt = 0.02329522097797554\n",
      "ShoppingMall = 0.043081936172634006\n",
      "Spa = 0.053094321106976095\n",
      "VRDeck = 0.0522288983991015\n",
      "Single = 0.004330604063290888\n",
      "Deck = 0.019551153967076074\n",
      "Side = 0.0009526084692488279\n",
      "Expenses_cut = 0.12209017890996265\n"
     ]
    }
   ],
   "source": [
    "from sklearn import feature_selection\n",
    "\n",
    "train1 = merged.loc[merged['Transported'].notna() == True]\n",
    "\n",
    "target = 'Transported'\n",
    "numFeatures = ['Group_count', 'Cabin_number', 'Age']\n",
    "catFeatures = ['HomePlanet', 'CryoSleep', 'Destination', 'Age_cut', 'VIP', 'RoomService', 'FoodCourt', 'ShoppingMall', \n",
    "               'Spa', 'VRDeck', 'Single', 'Deck', 'Side', 'Expenses_cut']\n",
    "\n",
    "print('Mutual Information for Survived and categorical variables: ')\n",
    "for var in catFeatures:\n",
    "    print(var,\"=\",feature_selection.mutual_info_classif(train1[var].astype('category').cat.codes.values.reshape(-1,1), \n",
    "                                                        train1[target].values)[0])"
   ]
  },
  {
   "cell_type": "markdown",
   "id": "88c88c16",
   "metadata": {},
   "source": [
    "Some features have very low MI, maybe we should look for some interactions?\n",
    "Like: Destination*CryoSleep, Destination*Single"
   ]
  },
  {
   "cell_type": "code",
   "execution_count": 37,
   "id": "7054fcef",
   "metadata": {},
   "outputs": [
    {
     "data": {
      "text/plain": [
       "<seaborn.axisgrid.FacetGrid at 0x27b1e6004c0>"
      ]
     },
     "execution_count": 37,
     "metadata": {},
     "output_type": "execute_result"
    },
    {
     "data": {
      "image/png": "[encoded data removed]",
      "text/plain": [
       "<Figure size 787.125x360 with 2 Axes>"
      ]
     },
     "metadata": {
      "needs_background": "light"
     },
     "output_type": "display_data"
    }
   ],
   "source": [
    "sn.catplot(data=merged, x=\"Destination\", hue=\"Transported\", col=\"CryoSleep\", kind=\"count\")"
   ]
  },
  {
   "cell_type": "code",
   "execution_count": 38,
   "id": "fe73c2ac",
   "metadata": {},
   "outputs": [
    {
     "data": {
      "text/plain": [
       "<seaborn.axisgrid.FacetGrid at 0x27b1fbc6ac0>"
      ]
     },
     "execution_count": 38,
     "metadata": {},
     "output_type": "execute_result"
    },
    {
     "data": {
      "image/png": "[encoded data removed]",
      "text/plain": [
       "<Figure size 787.125x360 with 2 Axes>"
      ]
     },
     "metadata": {
      "needs_background": "light"
     },
     "output_type": "display_data"
    }
   ],
   "source": [
    "sn.catplot(data=merged, x=\"Destination\", hue=\"Transported\", col=\"Single\", kind=\"count\")"
   ]
  },
  {
   "cell_type": "markdown",
   "id": "1bec13d6",
   "metadata": {},
   "source": [
    "Encoding"
   ]
  },
  {
   "cell_type": "code",
   "execution_count": 40,
   "id": "b8a815eb",
   "metadata": {},
   "outputs": [],
   "source": [
    "merged['CryoSleep'] = merged['CryoSleep'].map({True: 1,False: 0})\n",
    "merged['VIP'] = merged['VIP'].map({True: 1,False: 0})"
   ]
  },
  {
   "cell_type": "code",
   "execution_count": 41,
   "id": "89aef803",
   "metadata": {},
   "outputs": [],
   "source": [
    "cat = ['HomePlanet', 'CryoSleep', 'Destination', 'VIP', 'RoomService', 'FoodCourt', 'ShoppingMall', 'Spa', 'VRDeck', \n",
    "      'Transported', 'Single', 'Deck', 'Side', 'Age_cut', 'Expenses_cut']"
   ]
  },
  {
   "cell_type": "code",
   "execution_count": 42,
   "id": "6a6a47f9",
   "metadata": {},
   "outputs": [],
   "source": [
    "merged[cat] = merged[cat].astype(object)"
   ]
  },
  {
   "cell_type": "code",
   "execution_count": 43,
   "id": "07b04186",
   "metadata": {},
   "outputs": [],
   "source": [
    "merged.drop('GroupId', axis = 1, inplace = True)"
   ]
  },
  {
   "cell_type": "markdown",
   "id": "e9fff793",
   "metadata": {},
   "source": [
    "Encode categorical variables to numerical format for random forests"
   ]
  },
  {
   "cell_type": "code",
   "execution_count": 44,
   "id": "3a2278c5",
   "metadata": {},
   "outputs": [],
   "source": [
    "cat_string = ['HomePlanet', 'Destination', 'Deck', 'Side', 'Age_cut', 'Expenses_cut']"
   ]
  },
  {
   "cell_type": "code",
   "execution_count": 45,
   "id": "827ce87a",
   "metadata": {},
   "outputs": [],
   "source": [
    "from sklearn import preprocessing\n",
    "\n",
    "merged_encoded = merged.copy()\n",
    "\n",
    "maps = {}\n",
    "for feature in cat_string:\n",
    "    le = preprocessing.LabelEncoder()\n",
    "    merged_encoded[feature] = le.fit_transform(merged[feature])\n",
    "    maps[feature] = le"
   ]
  },
  {
   "cell_type": "code",
   "execution_count": 46,
   "id": "d31b04f1",
   "metadata": {},
   "outputs": [],
   "source": [
    "merged_encoded.drop(['Name', 'Cabin_number'], axis = 1, inplace = True)"
   ]
  },
  {
   "cell_type": "code",
   "execution_count": 48,
   "id": "b6de0e63",
   "metadata": {},
   "outputs": [],
   "source": [
    "#merged_encoded.to_csv('spaceship_rf.csv', index = False)"
   ]
  }
 ],
 "metadata": {
  "kernelspec": {
   "display_name": "Python 3",
   "language": "python",
   "name": "python3"
  },
  "language_info": {
   "codemirror_mode": {
    "name": "ipython",
    "version": 3
   },
   "file_extension": ".py",
   "mimetype": "text/x-python",
   "name": "python",
   "nbconvert_exporter": "python",
   "pygments_lexer": "ipython3",
   "version": "3.8.8"
  }
 },
 "nbformat": 4,
 "nbformat_minor": 5
}
